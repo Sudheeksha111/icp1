{
  "nbformat": 4,
  "nbformat_minor": 0,
  "metadata": {
    "colab": {
      "provenance": []
    },
    "kernelspec": {
      "name": "python3",
      "display_name": "Python 3"
    },
    "language_info": {
      "name": "python"
    }
  },
  "cells": [
    {
      "cell_type": "code",
      "execution_count": 9,
      "metadata": {
        "colab": {
          "base_uri": "https://localhost:8080/"
        },
        "id": "84YQdg-4Gle9",
        "outputId": "c65e5453-b97e-4524-8cf1-38d10feabe74"
      },
      "outputs": [
        {
          "output_type": "stream",
          "name": "stdout",
          "text": [
            "enter a string: python\n",
            "reversed string: noht\n",
            "Enter the first number: 12\n",
            "Enter the second number: 2\n",
            "addition: 14.0\n",
            "subtraction: 10.0\n",
            "Product: 24.0\n",
            "Division: 6.0\n"
          ]
        }
      ],
      "source": [
        "## 1st program\n",
        "# # a.delete at least 2 characters, reverse the resultant string and print it\n",
        "input1 = input(\"enter a string: \")\n",
        "input1 = list(input1)\n",
        "if len(input1) >= 2:\n",
        "  del input1[:2]\n",
        "  reversed_string = ''.join(input1[::-1])\n",
        "  print(\"reversed string:\", reversed_string)\n",
        "\n",
        "# b. arithmetic operations\n",
        "# # Take two numbers from the user\n",
        "a1 = float(input(\"Enter the first number: \"))\n",
        "a2 = float(input(\"Enter the second number: \"))\n",
        "\n",
        "# Perform arithmetic operations\n",
        "addition = a1 + a2\n",
        "subtraction = a1 - a2\n",
        "Product = a1 * a2\n",
        "Division = a1 / a2\n",
        "print(\"addition:\",addition )\n",
        "print(\"subtraction:\",subtraction )\n",
        "print(\"Product:\",Product)\n",
        "print(\"Division:\",Division)"
      ]
    },
    {
      "cell_type": "code",
      "source": [
        "## 2 accepts a sentence and replace each occurrence of ‘python’ with ‘pythons'\n",
        "input_sent = input(\"Enter a sentence: \")\n",
        "\n",
        "# Replace 'python' with 'pythons'\n",
        "replaced_sentence = input_sent.replace('python', 'pythons')\n",
        "\n",
        "# Print the replaced sentence\n",
        "print(\"Replaced Sentence:\", replaced_sentence)\n"
      ],
      "metadata": {
        "colab": {
          "base_uri": "https://localhost:8080/"
        },
        "id": "5O8Bhke9QSri",
        "outputId": "73e0165c-26fa-4f49-f380-eec099a0538b"
      },
      "execution_count": 7,
      "outputs": [
        {
          "output_type": "stream",
          "name": "stdout",
          "text": [
            "Enter a sentence: i like python\n",
            "Replaced Sentence: i like pythons\n"
          ]
        }
      ]
    },
    {
      "cell_type": "code",
      "source": [
        "## 3 if statement conditions\n",
        "##Input the class score from the user\n",
        "class_score = float(input(\"Enter the class score: \"))\n",
        "\n",
        "if class_score >= 90 and  class_score<=100:\n",
        "    grade = 'A'\n",
        "elif class_score >= 80 and class_score<90 :\n",
        "    grade = 'B'\n",
        "elif class_score >= 70 and class_score<80:\n",
        "    grade = 'C'\n",
        "elif class_score >= 60 and class_score<70:\n",
        "    grade = 'D'\n",
        "elif class_score <60:\n",
        "    grade = 'F'\n",
        "else:\n",
        "    grade = 'Wrong Score'\n",
        "\n",
        "# Print the grade\n",
        "print(\"Grade:\", grade)"
      ],
      "metadata": {
        "colab": {
          "base_uri": "https://localhost:8080/"
        },
        "id": "aaIxKaEcULSs",
        "outputId": "8fac2c0c-bca3-4708-9210-4cbf6248fdbd"
      },
      "execution_count": 8,
      "outputs": [
        {
          "output_type": "stream",
          "name": "stdout",
          "text": [
            "Enter the class score: 91\n",
            "Grade: A\n"
          ]
        }
      ]
    }
  ]
}